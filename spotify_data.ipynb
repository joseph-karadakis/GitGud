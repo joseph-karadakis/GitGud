{
 "cells": [
  {
   "cell_type": "code",
   "execution_count": null,
   "metadata": {},
   "outputs": [],
   "source": [
    "import pandas as pd\n",
    "\n",
    "# Replace the shareable link below with your own\n",
    "url = \"https://drive.google.com/file/d/12kL46ZcFwPUszZrfgThljRWp3w1tefEG/view?usp=sharing\"\n",
    "\n",
    "# Extract the file ID from the URL\n",
    "file_id = url.split(\"/\")[-2]\n",
    "\n",
    "# Construct the download URL for the file\n",
    "download_url = f\"https://drive.google.com/uc?id={file_id}\"\n",
    "\n",
    "# Read the CSV file into a Pandas DataFrame\n",
    "df = pd.read_csv(download_url)\n",
    "\n",
    "# Print the first few rows of the DataFrame\n",
    "print(df.head())\n"
   ]
  },
  {
   "cell_type": "code",
   "execution_count": null,
   "metadata": {},
   "outputs": [],
   "source": [
    "#Dependencies\n",
    "import pandas as pd\n",
    "import spotipy\n",
    "from spotipy.oauth2 import SpotifyClientCredentials\n",
    "from pathlib import Path\n",
    "import matplotlib.pyplot as plt\n",
    "from secrets import client_id, client_secret\n",
    "\n",
    "# access data\n",
    "url = 'https://drive.google.com/file/d/12kL46ZcFwPUszZrfgThljRWp3w1tefEG/view?usp=sharing'\n",
    "file_id = url.split('/')[-2]\n",
    "download_url = f\"https://drive.google.com/uc?id={file_id}\"\n",
    "spotify_main_data = pd.read_csv(download_url)\n",
    "spotify_main_data.head()\n"
   ]
  },
  {
   "cell_type": "code",
   "execution_count": null,
   "metadata": {},
   "outputs": [],
   "source": [
    "#Dependencies\n",
    "import pandas as pd\n",
    "import spotipy\n",
    "from spotipy.oauth2 import SpotifyClientCredentials\n",
    "from pathlib import Path\n",
    "import matplotlib.pyplot as plt\n",
    "from secrets import client_id, client_secret\n",
    "\n",
    "\n",
    "\n",
    "# access data\n",
    "url= 'https://drive.google.com/file/d/12kL46ZcFwPUszZrfgThljRWp3w1tefEG/view?usp=share_link'\n",
    "\n",
    "#create dataframe\n",
    "spotify_main_data = pd.read_csv(url)\n",
    "spotify_main_data.head()"
   ]
  },
  {
   "cell_type": "code",
   "execution_count": null,
   "metadata": {},
   "outputs": [],
   "source": [
    "#get list of regions\n",
    "# Get a list of all unique values in the 'region' column\n",
    "region_list = spotify_main_data['region'].unique()\n",
    "\n",
    "# Display the list of unique values\n",
    "print(region_list)\n"
   ]
  },
  {
   "cell_type": "code",
   "execution_count": null,
   "metadata": {},
   "outputs": [],
   "source": [
    "#Only United States\n",
    "\n",
    "USA_df = spotify_main_data[spotify_main_data['region'] == 'United States']\n",
    "\n",
    "\n",
    "# Display the updated DataFrame\n",
    "USA_df.head()\n"
   ]
  },
  {
   "cell_type": "code",
   "execution_count": null,
   "metadata": {},
   "outputs": [],
   "source": [
    "\n",
    "\n",
    "# Create a directory named \"Output\" if it doesn't exist\n",
    "Path(\"Output\").mkdir(exist_ok=True)\n",
    "\n",
    "# Save the DataFrame as a CSV in the \"Output\" directory\n",
    "USA_df.to_csv(\"Output/Spotify_USA_only.csv\", index=False)"
   ]
  },
  {
   "cell_type": "code",
   "execution_count": null,
   "metadata": {},
   "outputs": [],
   "source": [
    "USA_df.dtypes"
   ]
  },
  {
   "cell_type": "code",
   "execution_count": null,
   "metadata": {},
   "outputs": [],
   "source": [
    "#get list of chart\n",
    "# Get a list of all unique values in the 'chart' column\n",
    "chart_list = USA_df['chart'].unique()\n",
    "\n",
    "# Display the list of unique values\n",
    "print(chart_list)"
   ]
  },
  {
   "cell_type": "code",
   "execution_count": null,
   "metadata": {},
   "outputs": [],
   "source": [
    "# Create a new DataFrame that only contains rows where 'chart' is 'top200'\n",
    "USA_top200_df = USA_df[USA_df['chart'] == 'top200']\n",
    "\n",
    "# Display the updated DataFrame\n",
    "USA_top200_df.head(100)\n"
   ]
  },
  {
   "cell_type": "code",
   "execution_count": null,
   "metadata": {},
   "outputs": [],
   "source": [
    "#Keep only Top 5\n",
    "\n",
    "USA_top5_df = USA_top200_df[(USA_top200_df['rank'] >= 1) & (USA_top200_df['rank'] <= 5)]\n",
    "\n",
    "\n",
    "# Display the updated DataFrame\n",
    "USA_top5_df.head(100)\n",
    "\n",
    "\n"
   ]
  },
  {
   "cell_type": "code",
   "execution_count": null,
   "metadata": {},
   "outputs": [],
   "source": [
    "# Check for duplicates in the 'title' column\n",
    "duplicates = USA_top5_df.duplicated(subset=['title'])\n",
    "\n",
    "# Count the number of duplicates\n",
    "num_duplicates = duplicates.sum()\n",
    "\n",
    "# Print the number of duplicates found\n",
    "print(f\"Found {num_duplicates} duplicate titles.\")\n",
    "\n"
   ]
  },
  {
   "cell_type": "code",
   "execution_count": null,
   "metadata": {},
   "outputs": [],
   "source": [
    "#Same title - keeps first date\n",
    "title_by_month_df = USA_top5_df.groupby('title').first().reset_index()\n",
    "title_by_month_df.head(100)"
   ]
  },
  {
   "cell_type": "code",
   "execution_count": null,
   "metadata": {},
   "outputs": [],
   "source": [
    "# convert the date column to a datetime data type\n",
    "title_by_month_df['date'] = pd.to_datetime(title_by_month_df['date'])\n",
    "\n",
    "title_by_month_df.head(100)\n",
    "\n"
   ]
  },
  {
   "cell_type": "code",
   "execution_count": null,
   "metadata": {},
   "outputs": [],
   "source": [
    "# Check for duplicates in the 'title' column\n",
    "duplicates2 = title_by_month_df.duplicated(subset=['title'])\n",
    "\n",
    "# Count the number of duplicates\n",
    "num_duplicates2 = duplicates2.sum()\n",
    "\n",
    "# Print the number of duplicates found\n",
    "print(f\"Found {num_duplicates2} duplicate titles.\")\n",
    "\n",
    "title_by_month_df.count()"
   ]
  },
  {
   "cell_type": "code",
   "execution_count": null,
   "metadata": {},
   "outputs": [],
   "source": [
    "#grab Spotify Track Id from URL and add in a new column named 'Spotify Track Id'\n",
    "\n",
    "title_by_month_df['Spotify Track Id'] = title_by_month_df['url'].str.split('/').str[-1]\n",
    "title_by_month_df.head(100)"
   ]
  },
  {
   "cell_type": "code",
   "execution_count": null,
   "metadata": {},
   "outputs": [],
   "source": [
    "#pretty names that make sense\n",
    "\n",
    "top5= title_by_month_df"
   ]
  },
  {
   "cell_type": "code",
   "execution_count": null,
   "metadata": {},
   "outputs": [],
   "source": [
    "#FOR REAL DATA\n",
    "\n",
    "# Authenticate with the Spotify API using client credentials flow\n",
    "client_credentials_manager = SpotifyClientCredentials(client_id=client_id, client_secret=client_secret)\n",
    "sp = spotipy.Spotify(client_credentials_manager=client_credentials_manager)\n",
    "\n",
    "# Load the Spotify Track Id column from the dataframe\n",
    "track_ids = top5['Spotify Track Id']\n",
    "\n",
    "# Create empty lists to store the audio feature data\n",
    "danceability = []\n",
    "energy = []\n",
    "key = []\n",
    "loudness = []\n",
    "mode = []\n",
    "speechiness = []\n",
    "acousticness = []\n",
    "instrumentalness = []\n",
    "liveness = []\n",
    "valence = []\n",
    "tempo = []\n",
    "duration_ms = []\n",
    "\n",
    "# Iterate through each track id in the column and make a request to the Spotify API for its audio features\n",
    "for track_id in track_ids:\n",
    "    audio_features = sp.audio_features(track_id)[0]\n",
    "    danceability.append(audio_features['danceability'])\n",
    "    energy.append(audio_features['energy'])\n",
    "    key.append(audio_features['key'])\n",
    "    loudness.append(audio_features['loudness'])\n",
    "    mode.append(audio_features['mode'])\n",
    "    speechiness.append(audio_features['speechiness'])\n",
    "    acousticness.append(audio_features['acousticness'])\n",
    "    instrumentalness.append(audio_features['instrumentalness'])\n",
    "    liveness.append(audio_features['liveness'])\n",
    "    valence.append(audio_features['valence'])\n",
    "    tempo.append(audio_features['tempo'])\n",
    "    duration_ms.append(audio_features['duration_ms'])\n",
    "\n",
    "# Add the audio feature data to the dataframe as new columns\n",
    "top5['danceability'] = danceability\n",
    "top5['energy'] = energy\n",
    "top5['key'] = key\n",
    "top5['loudness'] = loudness\n",
    "top5['mode'] = mode\n",
    "top5['speechiness'] = speechiness\n",
    "top5['acousticness'] = acousticness\n",
    "top5['instrumentalness'] = instrumentalness\n",
    "top5['liveness'] = liveness\n",
    "top5['valence'] = valence\n",
    "top5['tempo'] = tempo\n",
    "top5['duration_ms'] = duration_ms\n",
    "\n",
    "# Print the updated dataframe\n",
    "top5.head()\n"
   ]
  },
  {
   "cell_type": "code",
   "execution_count": null,
   "metadata": {},
   "outputs": [],
   "source": [
    "#get list of keys\n",
    "# Get a list of all unique values in the 'key' column\n",
    "key_list = top5['key'].unique()\n",
    "\n",
    "# Display the list of unique values\n",
    "print(key_list)"
   ]
  },
  {
   "cell_type": "code",
   "execution_count": null,
   "metadata": {},
   "outputs": [],
   "source": [
    "#Convert key to Alpha\n",
    "key_letters = ['C', 'C#', 'D', 'D#', 'E', 'F', 'F#', 'G', 'G#', 'A', 'A#', 'B']\n",
    "top5['key'] = top5['key'].astype(int).apply(lambda x: key_letters[x % 12] if x != -1 else 'Unknown Key')\n",
    "\n",
    "top5.head(100)"
   ]
  },
  {
   "cell_type": "code",
   "execution_count": null,
   "metadata": {},
   "outputs": [],
   "source": [
    "#get list of keys in Alpha\n",
    "# Get a list of all unique values in the 'key' column\n",
    "key_list_alpha = top5['key'].unique()\n",
    "\n",
    "# Display the list of unique values\n",
    "print(key_list_alpha)"
   ]
  },
  {
   "cell_type": "code",
   "execution_count": null,
   "metadata": {},
   "outputs": [],
   "source": [
    "#Convert mode to Alpha\n",
    "mode_alpha = ['Maj', 'Min']\n",
    "top5['mode'] = top5['mode'].astype(int).apply(lambda x: mode_alpha[x % 12] if x != -1 else 'Unknown Mode')\n",
    "\n",
    "top5.head(100)"
   ]
  },
  {
   "cell_type": "code",
   "execution_count": null,
   "metadata": {},
   "outputs": [],
   "source": [
    "#get list of modes in Alpha\n",
    "# Get a list of all unique values in the 'key' column\n",
    "mode_list_alpha = top5['mode'].unique()\n",
    "\n",
    "# Display the list of unique values\n",
    "print(mode_list_alpha)"
   ]
  },
  {
   "cell_type": "code",
   "execution_count": null,
   "metadata": {},
   "outputs": [],
   "source": [
    "#Round Up Tempo\n",
    "import math\n",
    "\n",
    "# Round up the 'tempo' column to the nearest whole number\n",
    "top5['tempo'] = top5['tempo'].apply(lambda x: math.ceil(x))\n",
    "top5.head()\n"
   ]
  },
  {
   "cell_type": "code",
   "execution_count": null,
   "metadata": {},
   "outputs": [],
   "source": [
    "#Convert Duration\n",
    "# convert milliseconds to minutes\n",
    "top5['duration_mins'] = top5['duration_ms'] / 60000\n",
    "top5['duration_mins']=top5['duration_mins'].round(2)\n",
    "\n",
    "# drop old column\n",
    "top5=top5.drop('duration_ms',axis=1)\n",
    "top5.head()"
   ]
  },
  {
   "cell_type": "code",
   "execution_count": null,
   "metadata": {},
   "outputs": [],
   "source": [
    "#Define Valence in Alpha\n",
    "def valence_category(valence):\n",
    "    if valence >= 0.8:\n",
    "        return \"Extremely Positive\"\n",
    "    elif valence >= 0.6:\n",
    "        return \"Positive\"\n",
    "    elif valence >= 0.4:\n",
    "        return \"Neutral\"\n",
    "    elif valence >= 0.2:\n",
    "        return \"Negative\"\n",
    "    else:\n",
    "        return \"Extremely Negative\"\n",
    "\n",
    "top5['valence_category'] = top5['valence'].apply(valence_category)\n",
    "top5.head(100)\n"
   ]
  },
  {
   "cell_type": "code",
   "execution_count": null,
   "metadata": {},
   "outputs": [],
   "source": [
    "#Define Danceability in Alpha\n",
    "def danceability_category(danceability):\n",
    "    if danceability >= 0.8:\n",
    "        return \"Most Danceable\"\n",
    "    elif danceability >= 0.6:\n",
    "        return \"More Danceable\"\n",
    "    elif danceability >= 0.4:\n",
    "        return \"Danceable\"\n",
    "    elif danceability >= 0.2:\n",
    "        return \"Less Danceable\"\n",
    "    else:\n",
    "        return \"Least Danceable\"\n",
    "\n",
    "top5['danceabity_category'] = top5['danceability'].apply(danceability_category)\n",
    "top5.head(100)"
   ]
  },
  {
   "cell_type": "code",
   "execution_count": null,
   "metadata": {},
   "outputs": [],
   "source": [
    "#Define Energy in Alpha\n",
    "def energy_category(energy):\n",
    "    if energy >= 0.8:\n",
    "        return \"Extremely Intense\"\n",
    "    elif energy >= 0.6:\n",
    "        return \"Intense\"\n",
    "    elif energy >= 0.4:\n",
    "        return \"Neutral\"\n",
    "    elif energy >= 0.2:\n",
    "        return \"Calm\"\n",
    "    else:\n",
    "        return \"Extremely Calm\"\n",
    "\n",
    "top5['energy_category'] = top5['energy'].apply(energy_category)\n",
    "top5.head(100)"
   ]
  },
  {
   "cell_type": "code",
   "execution_count": null,
   "metadata": {},
   "outputs": [],
   "source": [
    "# Extract the year and month into separate columns\n",
    "top5['year'] = top5['date'].dt.year\n",
    "top5['month'] = top5['date'].dt.month\n",
    "\n",
    "# Drop the original date column if desired\n",
    "top5.drop(columns=['date'], inplace=True)\n",
    "\n",
    "top5.head()"
   ]
  },
  {
   "cell_type": "code",
   "execution_count": null,
   "metadata": {},
   "outputs": [],
   "source": [
    "print(top5.columns)"
   ]
  },
  {
   "cell_type": "code",
   "execution_count": null,
   "metadata": {},
   "outputs": [],
   "source": [
    "#Sort Columns\n",
    "# Define the desired column order\n",
    "column_order = ['title', 'artist', 'year', 'month', 'tempo', 'duration_mins', 'valence_category',\n",
    "                'danceabity_category', 'energy_category', 'key', 'mode', 'rank', 'region', 'chart',\n",
    "                'trend', 'streams', 'danceability', 'energy', 'loudness', 'speechiness', \n",
    "                'acousticness', 'instrumentalness', 'liveness', 'valence', 'url', 'Spotify Track Id']\n",
    "\n",
    "# Reindex the DataFrame using the desired column order\n",
    "top5 = top5.reindex(columns=column_order)\n",
    "\n",
    "# Display the resulting DataFrame\n",
    "top5.head(100)"
   ]
  },
  {
   "cell_type": "code",
   "execution_count": null,
   "metadata": {},
   "outputs": [],
   "source": [
    "# Create a scatter plot of danceability vs. streams\n",
    "plt.scatter(top5['streams'], top5['danceability'])\n",
    "plt.xlim(0, 4*1e6)\n",
    "# Add axis labels and a title\n",
    "plt.xlabel('Streams')\n",
    "plt.ylabel('Danceability')\n",
    "plt.title('Relationship Between Streams and Danceability')\n",
    "\n",
    "# Show the plot\n",
    "plt.show()"
   ]
  },
  {
   "attachments": {},
   "cell_type": "markdown",
   "metadata": {},
   "source": [
    "#ADD Corellation stat stuff\n",
    "#ADD Histogram"
   ]
  },
  {
   "cell_type": "code",
   "execution_count": null,
   "metadata": {},
   "outputs": [],
   "source": [
    "# Create a scatter plot of danceability vs. streams\n",
    "plt.scatter(top5['streams'], top5['energy'])\n",
    "plt.xlim(0, 4*1e6)\n",
    "# Add axis labels and a title\n",
    "plt.xlabel('Streams')\n",
    "plt.ylabel('Energy')\n",
    "plt.title('Relationship Between Streams and Energy')\n",
    "\n",
    "# Show the plot\n",
    "plt.show()"
   ]
  },
  {
   "cell_type": "code",
   "execution_count": null,
   "metadata": {},
   "outputs": [],
   "source": [
    "# Create a scatter plot of danceability vs. streams\n",
    "plt.scatter(top5['energy'], top5['danceability'])\n",
    "\n",
    "# Add axis labels and a title\n",
    "plt.xlabel('Energy')\n",
    "plt.ylabel('Danceability')\n",
    "plt.title('Relationship Between Energy and Danceability')\n",
    "\n",
    "# Show the plot\n",
    "plt.show()"
   ]
  },
  {
   "cell_type": "code",
   "execution_count": null,
   "metadata": {},
   "outputs": [],
   "source": [
    "import seaborn as sns\n",
    "\n",
    "sns.set_style('darkgrid')\n",
    "\n",
    "sns.scatterplot(data=top5, x='energy', y='danceability', hue='valence_category', style='energy_category', size='danceability')\n",
    "\n",
    "plt.title('Top 5 Songs: Energy vs Danceability')\n",
    "plt.xlabel('Energy')\n",
    "plt.ylabel('Danceability')\n",
    "plt.show()\n"
   ]
  },
  {
   "cell_type": "code",
   "execution_count": null,
   "metadata": {},
   "outputs": [],
   "source": [
    "# Group the data by year and mode, and calculate the count for each group\n",
    "df_monthly5 = top5.groupby(['year', 'mode']).size().reset_index(name='count')\n",
    "\n",
    "# Pivot the data to create a separate column for each mode\n",
    "df_pivot = df_monthly5.pivot(index='year', columns='mode', values='count')\n",
    "\n",
    "# Plot the mode popularity over time using a bar chart\n",
    "ax = df_pivot.plot(kind='bar', stacked=True, figsize=(10, 6))\n",
    "ax.set_xlabel('Year')\n",
    "ax.set_ylabel('Count')\n",
    "ax.set_title('Mode Popularity Over Time')\n",
    "plt.show()"
   ]
  },
  {
   "attachments": {},
   "cell_type": "markdown",
   "metadata": {},
   "source": [
    "#ADD % within Bars"
   ]
  },
  {
   "cell_type": "code",
   "execution_count": null,
   "metadata": {},
   "outputs": [],
   "source": [
    "# Group the data by year and mode, and calculate the count for each group\n",
    "df_monthly6 = top5.groupby(['year', 'valence_category']).size().reset_index(name='count')\n",
    "\n",
    "# Pivot the data to create a separate column for each mode\n",
    "df_pivot = df_monthly6.pivot(index='year', columns='valence_category', values='count')\n",
    "\n",
    "# Plot the mode popularity over time using a bar chart\n",
    "ax = df_pivot.plot(kind='bar', stacked=True, figsize=(10, 6))\n",
    "ax.set_xlabel('Year')\n",
    "ax.set_ylabel('Count')\n",
    "ax.set_title('Valence Popularity Over Time')\n",
    "plt.show()"
   ]
  },
  {
   "cell_type": "code",
   "execution_count": null,
   "metadata": {},
   "outputs": [],
   "source": [
    "# Group the data by year and mode, and calculate the count for each group\n",
    "df_monthly6 = top5.groupby(['year', 'energy_category']).size().reset_index(name='count')\n",
    "\n",
    "# Pivot the data to create a separate column for each mode\n",
    "df_pivot = df_monthly6.pivot(index='year', columns='energy_category', values='count')\n",
    "\n",
    "# Plot the mode popularity over time using a bar chart\n",
    "ax = df_pivot.plot(kind='bar', stacked=True, figsize=(10, 6))\n",
    "ax.set_xlabel('Year')\n",
    "ax.set_ylabel('Count')\n",
    "ax.set_title('Energy Popularity Over Time')\n",
    "plt.show()"
   ]
  },
  {
   "cell_type": "code",
   "execution_count": null,
   "metadata": {},
   "outputs": [],
   "source": [
    "\n"
   ]
  }
 ],
 "metadata": {
  "kernelspec": {
   "display_name": "base",
   "language": "python",
   "name": "python3"
  },
  "language_info": {
   "codemirror_mode": {
    "name": "ipython",
    "version": 3
   },
   "file_extension": ".py",
   "mimetype": "text/x-python",
   "name": "python",
   "nbconvert_exporter": "python",
   "pygments_lexer": "ipython3",
   "version": "3.10.9"
  },
  "orig_nbformat": 4
 },
 "nbformat": 4,
 "nbformat_minor": 2
}
