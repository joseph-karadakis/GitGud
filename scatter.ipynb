{
 "cells": [
  {
   "cell_type": "code",
   "execution_count": 1,
   "metadata": {},
   "outputs": [],
   "source": [
    "#Dependencies\n",
    "import pandas as pd\n",
    "from pprint import pprint\n",
    "import matplotlib.pyplot as plt\n",
    "import numpy as np\n",
    "\n",
    "#takes stored df from ed_workshop_final.ipynb and derives it here\n",
    "%store -r plot_means"
   ]
  },
  {
   "cell_type": "code",
   "execution_count": 5,
   "metadata": {},
   "outputs": [
    {
     "data": {
      "text/html": [
       "<div>\n",
       "<style scoped>\n",
       "    .dataframe tbody tr th:only-of-type {\n",
       "        vertical-align: middle;\n",
       "    }\n",
       "\n",
       "    .dataframe tbody tr th {\n",
       "        vertical-align: top;\n",
       "    }\n",
       "\n",
       "    .dataframe thead th {\n",
       "        text-align: right;\n",
       "    }\n",
       "</style>\n",
       "<table border=\"1\" class=\"dataframe\">\n",
       "  <thead>\n",
       "    <tr style=\"text-align: right;\">\n",
       "      <th></th>\n",
       "      <th>speechiness</th>\n",
       "      <th>instrumentalness</th>\n",
       "      <th>acousticness</th>\n",
       "      <th>liveness</th>\n",
       "      <th>valence</th>\n",
       "      <th>danceability</th>\n",
       "    </tr>\n",
       "    <tr>\n",
       "      <th>xlabel</th>\n",
       "      <th></th>\n",
       "      <th></th>\n",
       "      <th></th>\n",
       "      <th></th>\n",
       "      <th></th>\n",
       "      <th></th>\n",
       "    </tr>\n",
       "  </thead>\n",
       "  <tbody>\n",
       "    <tr>\n",
       "      <th>1/2017</th>\n",
       "      <td>0.875325</td>\n",
       "      <td>0.988428</td>\n",
       "      <td>0.789996</td>\n",
       "      <td>0.823665</td>\n",
       "      <td>0.516523</td>\n",
       "      <td>0.329785</td>\n",
       "    </tr>\n",
       "    <tr>\n",
       "      <th>2/2017</th>\n",
       "      <td>0.853399</td>\n",
       "      <td>0.994464</td>\n",
       "      <td>0.783868</td>\n",
       "      <td>0.830408</td>\n",
       "      <td>0.584539</td>\n",
       "      <td>0.321765</td>\n",
       "    </tr>\n",
       "    <tr>\n",
       "      <th>3/2017</th>\n",
       "      <td>0.831977</td>\n",
       "      <td>0.980936</td>\n",
       "      <td>0.684689</td>\n",
       "      <td>0.807864</td>\n",
       "      <td>0.501949</td>\n",
       "      <td>0.353513</td>\n",
       "    </tr>\n",
       "    <tr>\n",
       "      <th>4/2017</th>\n",
       "      <td>0.837399</td>\n",
       "      <td>0.981579</td>\n",
       "      <td>0.794515</td>\n",
       "      <td>0.776474</td>\n",
       "      <td>0.562603</td>\n",
       "      <td>0.329628</td>\n",
       "    </tr>\n",
       "    <tr>\n",
       "      <th>5/2017</th>\n",
       "      <td>0.869002</td>\n",
       "      <td>0.989941</td>\n",
       "      <td>0.807798</td>\n",
       "      <td>0.827442</td>\n",
       "      <td>0.520884</td>\n",
       "      <td>0.361600</td>\n",
       "    </tr>\n",
       "  </tbody>\n",
       "</table>\n",
       "</div>"
      ],
      "text/plain": [
       "        speechiness  instrumentalness  acousticness  liveness   valence   \n",
       "xlabel                                                                    \n",
       "1/2017     0.875325          0.988428      0.789996  0.823665  0.516523  \\\n",
       "2/2017     0.853399          0.994464      0.783868  0.830408  0.584539   \n",
       "3/2017     0.831977          0.980936      0.684689  0.807864  0.501949   \n",
       "4/2017     0.837399          0.981579      0.794515  0.776474  0.562603   \n",
       "5/2017     0.869002          0.989941      0.807798  0.827442  0.520884   \n",
       "\n",
       "        danceability  \n",
       "xlabel                \n",
       "1/2017      0.329785  \n",
       "2/2017      0.321765  \n",
       "3/2017      0.353513  \n",
       "4/2017      0.329628  \n",
       "5/2017      0.361600  "
      ]
     },
     "execution_count": 5,
     "metadata": {},
     "output_type": "execute_result"
    }
   ],
   "source": [
    "#just checkin'\n",
    "plot_means.head()"
   ]
  },
  {
   "cell_type": "code",
   "execution_count": 6,
   "metadata": {},
   "outputs": [
    {
     "data": {
      "text/plain": [
       "<Axes: xlabel='speechiness', ylabel='acousticness'>"
      ]
     },
     "execution_count": 6,
     "metadata": {},
     "output_type": "execute_result"
    },
    {
     "data": {
      "image/png": "[encoded data removed]",
      "text/plain": [
       "<Figure size 640x480 with 1 Axes>"
      ]
     },
     "metadata": {},
     "output_type": "display_data"
    }
   ],
   "source": [
    "plot_means.plot(kind= 'scatter', x = 'speechiness', y = 'acousticness')"
   ]
  },
  {
   "cell_type": "code",
   "execution_count": null,
   "metadata": {},
   "outputs": [],
   "source": []
  }
 ],
 "metadata": {
  "kernelspec": {
   "display_name": "Python 3",
   "language": "python",
   "name": "python3"
  },
  "language_info": {
   "codemirror_mode": {
    "name": "ipython",
    "version": 3
   },
   "file_extension": ".py",
   "mimetype": "text/x-python",
   "name": "python",
   "nbconvert_exporter": "python",
   "pygments_lexer": "ipython3",
   "version": "3.10.11"
  },
  "orig_nbformat": 4
 },
 "nbformat": 4,
 "nbformat_minor": 2
}
